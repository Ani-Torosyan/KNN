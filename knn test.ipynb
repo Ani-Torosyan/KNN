{
 "cells": [
  {
   "cell_type": "code",
   "execution_count": 1,
   "metadata": {},
   "outputs": [
    {
     "name": "stdout",
     "output_type": "stream",
     "text": [
      "\n",
      "Searching for recommendations based on the selected movie IDs...\n",
      "Movie Selected: Toy Story (1995) | Movie ID: 1\n",
      "Movie Selected: Jumanji (1995) | Movie ID: 2\n",
      "Movie Selected: Harry Potter and the Sorcerer's Stone (a.k.a. Harry Potter and the Philosopher's Stone) (2001) | Movie ID: 4896\n",
      "Movie Selected: Balto (1995) | Movie ID: 13\n",
      "Movie Selected: Swan Princess, The (1994) | Movie ID: 313\n",
      "Movie Selected: Pocahontas (1995) | Movie ID: 48\n",
      "Movie Selected: Goofy Movie, A (1995) | Movie ID: 239\n",
      "Movie Selected: Lion King, The (1994) | Movie ID: 364\n",
      "Movie Selected: Nightmare Before Christmas, The (1993) | Movie ID: 551\n",
      "\n",
      "Recommended Movies:\n",
      "Aladdin (1992)\n",
      "Beauty and the Beast (1991)\n",
      "Mrs. Doubtfire (1993)\n",
      "Jurassic Park (1993)\n",
      "Mask, The (1994)\n",
      "Forrest Gump (1994)\n",
      "Snow White and the Seven Dwarfs (1937)\n",
      "Home Alone (1990)\n",
      "Babe (1995)\n",
      "Shrek (2001)\n"
     ]
    }
   ],
   "source": [
    "import pandas as pd\n",
    "from scipy.sparse import csr_matrix\n",
    "from sklearn.neighbors import NearestNeighbors\n",
    "import numpy as np\n",
    "\n",
    "movies = pd.read_csv(\"movies.csv\")\n",
    "ratings = pd.read_csv(\"ratings.csv\")\n",
    "\n",
    "movies_users = ratings.pivot(index=\"movieId\", columns=\"userId\", values=\"rating\").fillna(0)\n",
    "mat_movies = csr_matrix(movies_users.values)\n",
    "\n",
    "movie_id_to_index = {movie_id: idx for idx, movie_id in enumerate(movies_users.index)}\n",
    "index_to_movie_id = {idx: movie_id for movie_id, idx in movie_id_to_index.items()}\n",
    "\n",
    "model = NearestNeighbors(metric=\"cosine\", algorithm=\"brute\", n_neighbors=50)  \n",
    "model.fit(mat_movies)\n",
    "\n",
    "def recommender_multiple_by_id(movie_ids, data, n):\n",
    "    indices = [movie_id_to_index[movie_id] for movie_id in movie_ids if movie_id in movie_id_to_index]\n",
    "    \n",
    "    if not indices:\n",
    "        print(\"No valid movie IDs provided.\")\n",
    "        return\n",
    "    \n",
    "    print(\"\\nSearching for recommendations based on the selected movie IDs...\")\n",
    "    for movie_id in movie_ids:\n",
    "        if movie_id in movie_id_to_index:\n",
    "            print(f\"Movie Selected: {movies[movies['movieId'] == movie_id]['title'].values[0]} | Movie ID: {movie_id}\")\n",
    "        else:\n",
    "            print(f\"Movie ID {movie_id} not found in dataset.\")\n",
    "    \n",
    "    mean_vector = np.asarray(data[indices].mean(axis=0)).reshape(1, -1)\n",
    "    \n",
    "    distance, rec_indices = model.kneighbors(mean_vector, n_neighbors=50)  \n",
    "    \n",
    "    rec_movie_ids = [index_to_movie_id[i] for i in rec_indices[0] if i not in indices]\n",
    "    \n",
    "    if len(rec_movie_ids) < n:\n",
    "        all_movie_ids = set(index_to_movie_id.values())\n",
    "        additional_recs = [mid for mid in all_movie_ids if mid not in rec_movie_ids and mid not in movie_ids]\n",
    "        rec_movie_ids.extend(additional_recs[:n - len(rec_movie_ids)])\n",
    "    \n",
    "    rec_movie_ids = rec_movie_ids[:n]  \n",
    "    \n",
    "    print(\"\\nRecommended Movies:\")\n",
    "    for movie_id in rec_movie_ids:\n",
    "        print(movies[movies['movieId'] == movie_id]['title'].values[0])\n",
    "\n",
    "input_movie_ids = [1, 2, 4896, 13, 313, 48, 239, 364, 551] \n",
    "recommender_multiple_by_id(input_movie_ids, mat_movies, 10)\n"
   ]
  }
 ],
 "metadata": {
  "kernelspec": {
   "display_name": "myenviroment",
   "language": "python",
   "name": "python3"
  },
  "language_info": {
   "codemirror_mode": {
    "name": "ipython",
    "version": 3
   },
   "file_extension": ".py",
   "mimetype": "text/x-python",
   "name": "python",
   "nbconvert_exporter": "python",
   "pygments_lexer": "ipython3",
   "version": "3.12.2"
  }
 },
 "nbformat": 4,
 "nbformat_minor": 2
}
